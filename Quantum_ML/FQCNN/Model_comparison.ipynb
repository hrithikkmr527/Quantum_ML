version https://git-lfs.github.com/spec/v1
oid sha256:b053c6684cf9054aafc733a64bb9fc82356e8ceaa8f72a50859ac83b30533b43
size 22254432
