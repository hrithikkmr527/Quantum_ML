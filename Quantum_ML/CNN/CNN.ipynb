version https://git-lfs.github.com/spec/v1
oid sha256:738bae06eaee77b4a5ea5bf4a7280417bbd7032fa361c8b82f95d30ad0c935a3
size 58687803
