version https://git-lfs.github.com/spec/v1
oid sha256:2a24ddcf990d894e6a214e1fcea5dda2f5b3300a115f6c3f1060d421e7052e09
size 29482686
